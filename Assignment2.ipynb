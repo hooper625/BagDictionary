{
  "nbformat": 4,
  "nbformat_minor": 0,
  "metadata": {
    "colab": {
      "provenance": [],
      "authorship_tag": "ABX9TyMNsEeRGv5PqoxfzemGMBRM",
      "include_colab_link": true
    },
    "kernelspec": {
      "name": "python3",
      "display_name": "Python 3"
    },
    "language_info": {
      "name": "python"
    }
  },
  "cells": [
    {
      "cell_type": "markdown",
      "metadata": {
        "id": "view-in-github",
        "colab_type": "text"
      },
      "source": [
        "<a href=\"https://colab.research.google.com/github/hooper625/BagDictionary/blob/master/Assignment2.ipynb\" target=\"_parent\"><img src=\"https://colab.research.google.com/assets/colab-badge.svg\" alt=\"Open In Colab\"/></a>"
      ]
    },
    {
      "cell_type": "code",
      "execution_count": 8,
      "metadata": {
        "colab": {
          "base_uri": "https://localhost:8080/"
        },
        "id": "W63D65epNSaq",
        "outputId": "a2716aac-76db-4bcd-826a-8eed1dae9809"
      },
      "outputs": [
        {
          "output_type": "stream",
          "name": "stdout",
          "text": [
            "Enter a number: \n",
            "67\n",
            "67 is odd\n",
            "67 is not divisable by 3\n"
          ]
        }
      ],
      "source": [
        "\n",
        "num = int(input('Enter a number: \\n'))\n",
        "#even ot odd\n",
        "if num % 2 == 0:\n",
        "    print(num, 'is even')\n",
        "else:\n",
        "    print(num, 'is odd')\n",
        "\n",
        "#divisable by 3\n",
        "if num % 3 == 0:\n",
        "    print(num, 'is divisable by 3')\n",
        "else:\n",
        "  print(num, 'is not divisable by 3')"
      ]
    }
  ]
}